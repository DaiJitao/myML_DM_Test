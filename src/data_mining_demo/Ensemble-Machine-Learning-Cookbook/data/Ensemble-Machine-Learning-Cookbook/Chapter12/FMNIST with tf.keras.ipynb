{
  "nbformat": 4,
  "nbformat_minor": 0,
  "metadata": {
    "colab": {
      "name": "Chapter 12 - FMNIST.ipynb",
      "version": "0.3.2",
      "provenance": []
    },
    "kernelspec": {
      "name": "python3",
      "display_name": "Python 3"
    },
    "accelerator": "GPU"
  },
  "cells": [
    {
      "metadata": {
        "id": "FMlTm8VYGJp8",
        "colab_type": "code",
        "colab": {}
      },
      "cell_type": "code",
      "source": [
        "#Importing Required Libraries\n",
        "import numpy as np\n",
        "import matplotlib.pyplot as plt\n",
        "import tensorflow as tf\n",
        "import seaborn as sns\n",
        "import warnings\n",
        "\n",
        "# scikit-learn bootstrap\n",
        "from sklearn.utils import resample\n",
        "import pandas as pd\n",
        "from sklearn.metrics import precision_score, recall_score\n",
        "\n",
        "from sklearn.metrics import accuracy_score, confusion_matrix, classification_report\n",
        "from scipy import stats"
      ],
      "execution_count": 0,
      "outputs": []
    },
    {
      "metadata": {
        "id": "lqg0JCRIGVRB",
        "colab_type": "code",
        "colab": {
          "base_uri": "https://localhost:8080/",
          "height": 158
        },
        "outputId": "fcadba58-70da-41b7-d1f1-9639fc55ae71"
      },
      "cell_type": "code",
      "source": [
        "# Load the fashion-mnist pre-shuffled train data and test data\n",
        "(x_train, y_train), (x_test, y_test) = tf.keras.datasets.fashion_mnist.load_data()"
      ],
      "execution_count": 2,
      "outputs": [
        {
          "output_type": "stream",
          "text": [
            "Downloading data from https://storage.googleapis.com/tensorflow/tf-keras-datasets/train-labels-idx1-ubyte.gz\n",
            "32768/29515 [=================================] - 0s 0us/step\n",
            "Downloading data from https://storage.googleapis.com/tensorflow/tf-keras-datasets/train-images-idx3-ubyte.gz\n",
            "26427392/26421880 [==============================] - 1s 0us/step\n",
            "Downloading data from https://storage.googleapis.com/tensorflow/tf-keras-datasets/t10k-labels-idx1-ubyte.gz\n",
            "8192/5148 [===============================================] - 0s 0us/step\n",
            "Downloading data from https://storage.googleapis.com/tensorflow/tf-keras-datasets/t10k-images-idx3-ubyte.gz\n",
            "4423680/4422102 [==============================] - 0s 0us/step\n"
          ],
          "name": "stdout"
        }
      ]
    },
    {
      "metadata": {
        "id": "yyZkuoqaGXS3",
        "colab_type": "code",
        "colab": {
          "base_uri": "https://localhost:8080/",
          "height": 34
        },
        "outputId": "c0ef7514-9fff-4b4a-fc4a-6f772f171b22"
      },
      "cell_type": "code",
      "source": [
        "# Print training set shape - note there are 60,000 training data of image size of 28x28, 60,000 train labels)\n",
        "print(\"x_train shape:\", x_train.shape,\"/n\", \"y_train shape:\", y_train.shape)"
      ],
      "execution_count": 3,
      "outputs": [
        {
          "output_type": "stream",
          "text": [
            "x_train shape: (60000, 28, 28) /n y_train shape: (60000,)\n"
          ],
          "name": "stdout"
        }
      ]
    },
    {
      "metadata": {
        "id": "StDTDmQKGZhX",
        "colab_type": "code",
        "colab": {
          "base_uri": "https://localhost:8080/",
          "height": 34
        },
        "outputId": "df091c3f-c215-4ff3-835c-054ebab7d2ed"
      },
      "cell_type": "code",
      "source": [
        "np.unique(y_train)"
      ],
      "execution_count": 4,
      "outputs": [
        {
          "output_type": "execute_result",
          "data": {
            "text/plain": [
              "array([0, 1, 2, 3, 4, 5, 6, 7, 8, 9], dtype=uint8)"
            ]
          },
          "metadata": {
            "tags": []
          },
          "execution_count": 4
        }
      ]
    },
    {
      "metadata": {
        "id": "3JZjWinrGZ7g",
        "colab_type": "code",
        "colab": {
          "base_uri": "https://localhost:8080/",
          "height": 501
        },
        "outputId": "0683b7a5-82ab-42ec-b887-96777ea93b5b"
      },
      "cell_type": "code",
      "source": [
        "fig=plt.figure(figsize=(16,8))\n",
        "columns=5  #number of columns for images in plot\n",
        "rows=3\n",
        "\n",
        "for i in range (1,columns*rows+1):\n",
        "      fig.add_subplot(rows,columns,i)\n",
        "      plt.title(\"Actual Class: {}\".\\\n",
        "              format((y_train[i])),color='r',fontsize=16)\n",
        "      plt.imshow(x_train[i])\n",
        "plt.show()"
      ],
      "execution_count": 5,
      "outputs": [
        {
          "output_type": "display_data",
          "data": {
            "image/png": "[encoded data removed]",
            "text/plain": [
              "<Figure size 1152x576 with 15 Axes>"
            ]
          },
          "metadata": {
            "tags": []
          }
        }
      ]
    },
    {
      "metadata": {
        "id": "Yv1GIbSHGb6I",
        "colab_type": "code",
        "colab": {
          "base_uri": "https://localhost:8080/",
          "height": 1634
        },
        "outputId": "1e414fab-44ba-4a34-f248-458e1201bea7"
      },
      "cell_type": "code",
      "source": [
        "accuracy = pd.DataFrame( columns=[\"Accuracy\",\"Precision\",\"Recall\"])\n",
        "predictions = np.zeros(shape=(10000,7))\n",
        "row_index = 0\n",
        "for i in range(7):\n",
        "        # bootstrap sampling  \n",
        "        boot_train = resample(x_train,y_train,replace=True, n_samples=40000, random_state=None)\n",
        "        model = tf.keras.Sequential([\n",
        "            tf.keras.layers.Flatten(input_shape=(28, 28)),\n",
        "            tf.keras.layers.Dense(256, activation=tf.nn.relu),\n",
        "            tf.keras.layers.Dense(128, activation=tf.nn.relu),\n",
        "            tf.keras.layers.Dense(128, activation=tf.nn.relu),\n",
        "            tf.keras.layers.Dense(128, activation=tf.nn.relu),\n",
        "            tf.keras.layers.Dense(128, activation=tf.nn.relu),\n",
        "            tf.keras.layers.Dense(128, activation=tf.nn.relu),\n",
        "            tf.keras.layers.Dense(128, activation=tf.nn.relu),\n",
        "            tf.keras.layers.Dense(128, activation=tf.nn.relu),\n",
        "            tf.keras.layers.Dense(128, activation=tf.nn.relu),\n",
        "            tf.keras.layers.Dense(128, activation=tf.nn.relu),\n",
        "            tf.keras.layers.Dense(128, activation=tf.nn.relu),\n",
        "            tf.keras.layers.Dense(128, activation=tf.nn.relu),\n",
        "            tf.keras.layers.Dense(128, activation=tf.nn.relu),\n",
        "            tf.keras.layers.Dense(128, activation=tf.nn.relu),\n",
        "            tf.keras.layers.Dense(128, activation=tf.nn.relu),\n",
        "            tf.keras.layers.Dense(128, activation=tf.nn.relu),\n",
        "            tf.keras.layers.Dense(128, activation=tf.nn.relu),\n",
        "            tf.keras.layers.Dense(10, activation=tf.nn.softmax)])\n",
        "  \n",
        "        # compile the model\n",
        "        model.compile(loss='sparse_categorical_crossentropy',optimizer='adam',metrics=['accuracy'])\n",
        "  \n",
        "        # Train the model\n",
        "        model.fit(x_train,y_train,epochs=5,batch_size=64)\n",
        "  \n",
        "        # Evaluate accuracy\n",
        "        score = model.evaluate(x_test, y_test, batch_size=64)\n",
        "        accuracy.loc[row_index,\"Accuracy\"]=score[1]\n",
        "  \n",
        "        # Make predictions\n",
        "        model_pred= model.predict(x_test)\n",
        "        pred_classes =model_pred.argmax(axis=-1)\n",
        "        accuracy.loc[row_index, 'Precision'] = precision_score(y_test, pred_classes, average='weighted')\n",
        "        accuracy.loc[row_index, 'Recall'] = recall_score(y_test, pred_classes,average='weighted')\n",
        "  \n",
        "        # Save predictions to predictions array\n",
        "        predictions[:,i] = pred_classes\n",
        "  \n",
        "        print(score)\n",
        "        row_index+=1\n",
        "\n",
        "        print(\"Iteration \" + str(i+1)+ \" Accuracy : \" + \"{0}\".format(score[1]))"
      ],
      "execution_count": 97,
      "outputs": [
        {
          "output_type": "stream",
          "text": [
            "Epoch 1/5\n",
            "60000/60000 [==============================] - 22s 364us/step - loss: 0.6757 - acc: 0.7487\n",
            "Epoch 2/5\n",
            "60000/60000 [==============================] - 12s 208us/step - loss: 0.4720 - acc: 0.8363\n",
            "Epoch 3/5\n",
            "60000/60000 [==============================] - 13s 208us/step - loss: 0.4370 - acc: 0.8488\n",
            "Epoch 4/5\n",
            "60000/60000 [==============================] - 12s 207us/step - loss: 0.4110 - acc: 0.8580\n",
            "Epoch 5/5\n",
            "60000/60000 [==============================] - 12s 208us/step - loss: 0.3955 - acc: 0.8644\n",
            "10000/10000 [==============================] - 5s 489us/step\n",
            "[0.4054821112036705, 0.8666]\n",
            "Iteration 1 Accuracy : 0.8666\n",
            "Epoch 1/5\n",
            "60000/60000 [==============================] - 22s 374us/step - loss: 0.6486 - acc: 0.7657\n",
            "Epoch 2/5\n",
            "60000/60000 [==============================] - 13s 209us/step - loss: 0.4655 - acc: 0.8380\n",
            "Epoch 3/5\n",
            "60000/60000 [==============================] - 13s 210us/step - loss: 0.4276 - acc: 0.8508\n",
            "Epoch 4/5\n",
            "60000/60000 [==============================] - 13s 209us/step - loss: 0.4191 - acc: 0.8541\n",
            "Epoch 5/5\n",
            "60000/60000 [==============================] - 13s 209us/step - loss: 0.3914 - acc: 0.8635\n",
            "10000/10000 [==============================] - 5s 519us/step\n",
            "[0.40960077180862425, 0.8526]\n",
            "Iteration 2 Accuracy : 0.8526\n",
            "Epoch 1/5\n",
            "60000/60000 [==============================] - 23s 386us/step - loss: 0.6720 - acc: 0.7509\n",
            "Epoch 2/5\n",
            "60000/60000 [==============================] - 13s 210us/step - loss: 0.4960 - acc: 0.8234\n",
            "Epoch 3/5\n",
            "60000/60000 [==============================] - 13s 210us/step - loss: 0.4397 - acc: 0.8456\n",
            "Epoch 4/5\n",
            "60000/60000 [==============================] - 13s 210us/step - loss: 0.4233 - acc: 0.8524\n",
            "Epoch 5/5\n",
            "60000/60000 [==============================] - 13s 210us/step - loss: 0.3987 - acc: 0.8596\n",
            "10000/10000 [==============================] - 5s 549us/step\n",
            "[0.45897688469886777, 0.8468]\n",
            "Iteration 3 Accuracy : 0.8468\n",
            "Epoch 1/5\n",
            "60000/60000 [==============================] - 24s 398us/step - loss: 0.6677 - acc: 0.7576\n",
            "Epoch 2/5\n",
            "60000/60000 [==============================] - 13s 211us/step - loss: 0.4854 - acc: 0.8307\n",
            "Epoch 3/5\n",
            "60000/60000 [==============================] - 13s 211us/step - loss: 0.4346 - acc: 0.8486\n",
            "Epoch 4/5\n",
            "60000/60000 [==============================] - 13s 211us/step - loss: 0.4351 - acc: 0.8508\n",
            "Epoch 5/5\n",
            "60000/60000 [==============================] - 13s 211us/step - loss: 0.4024 - acc: 0.8608\n",
            "10000/10000 [==============================] - 6s 582us/step\n",
            "[0.43926851143836976, 0.854]\n",
            "Iteration 4 Accuracy : 0.854\n",
            "Epoch 1/5\n",
            "60000/60000 [==============================] - 25s 409us/step - loss: 0.6586 - acc: 0.7557\n",
            "Epoch 2/5\n",
            "60000/60000 [==============================] - 13s 212us/step - loss: 0.4841 - acc: 0.8294\n",
            "Epoch 3/5\n",
            "60000/60000 [==============================] - 13s 213us/step - loss: 0.4436 - acc: 0.8490\n",
            "Epoch 4/5\n",
            "60000/60000 [==============================] - 13s 214us/step - loss: 0.4218 - acc: 0.8541\n",
            "Epoch 5/5\n",
            "60000/60000 [==============================] - 13s 212us/step - loss: 0.4053 - acc: 0.8612\n",
            "10000/10000 [==============================] - 6s 599us/step\n",
            "[0.4245785649061203, 0.8601]\n",
            "Iteration 5 Accuracy : 0.8601\n",
            "Epoch 1/5\n",
            "60000/60000 [==============================] - 26s 429us/step - loss: 0.6767 - acc: 0.7539\n",
            "Epoch 2/5\n",
            "60000/60000 [==============================] - 13s 213us/step - loss: 0.4860 - acc: 0.8264\n",
            "Epoch 3/5\n",
            "60000/60000 [==============================] - 13s 212us/step - loss: 0.4488 - acc: 0.8459\n",
            "Epoch 4/5\n",
            "60000/60000 [==============================] - 13s 212us/step - loss: 0.4178 - acc: 0.8564\n",
            "Epoch 5/5\n",
            "60000/60000 [==============================] - 13s 214us/step - loss: 0.4001 - acc: 0.8631\n",
            "10000/10000 [==============================] - 7s 656us/step\n",
            "[0.44211525440216065, 0.8418]\n",
            "Iteration 6 Accuracy : 0.8418\n",
            "Epoch 1/5\n",
            "60000/60000 [==============================] - 26s 435us/step - loss: 0.6667 - acc: 0.7558\n",
            "Epoch 2/5\n",
            "60000/60000 [==============================] - 13s 216us/step - loss: 0.4685 - acc: 0.8370\n",
            "Epoch 3/5\n",
            "60000/60000 [==============================] - 13s 214us/step - loss: 0.4267 - acc: 0.8511\n",
            "Epoch 4/5\n",
            "60000/60000 [==============================] - 13s 215us/step - loss: 0.4314 - acc: 0.8533\n",
            "Epoch 5/5\n",
            "60000/60000 [==============================] - 13s 215us/step - loss: 0.3933 - acc: 0.8650\n",
            "10000/10000 [==============================] - 7s 691us/step\n",
            "[0.39006113965511324, 0.867]\n",
            "Iteration 7 Accuracy : 0.867\n"
          ],
          "name": "stdout"
        }
      ]
    },
    {
      "metadata": {
        "id": "2Q99P_m8HIgg",
        "colab_type": "code",
        "colab": {
          "base_uri": "https://localhost:8080/",
          "height": 287
        },
        "outputId": "18b11c4a-af1c-4329-9b54-402b0299f781"
      },
      "cell_type": "code",
      "source": [
        "accuracy"
      ],
      "execution_count": 183,
      "outputs": [
        {
          "output_type": "execute_result",
          "data": {
            "text/html": [
              "<div>\n",
              "<style scoped>\n",
              "    .dataframe tbody tr th:only-of-type {\n",
              "        vertical-align: middle;\n",
              "    }\n",
              "\n",
              "    .dataframe tbody tr th {\n",
              "        vertical-align: top;\n",
              "    }\n",
              "\n",
              "    .dataframe thead th {\n",
              "        text-align: right;\n",
              "    }\n",
              "</style>\n",
              "<table border=\"1\" class=\"dataframe\">\n",
              "  <thead>\n",
              "    <tr style=\"text-align: right;\">\n",
              "      <th></th>\n",
              "      <th>Accuracy</th>\n",
              "      <th>Precision</th>\n",
              "      <th>Recall</th>\n",
              "      <th>Models</th>\n",
              "    </tr>\n",
              "  </thead>\n",
              "  <tbody>\n",
              "    <tr>\n",
              "      <th>0</th>\n",
              "      <td>0.8666</td>\n",
              "      <td>0.867061</td>\n",
              "      <td>0.8666</td>\n",
              "      <td>Iteration 1</td>\n",
              "    </tr>\n",
              "    <tr>\n",
              "      <th>1</th>\n",
              "      <td>0.8526</td>\n",
              "      <td>0.855435</td>\n",
              "      <td>0.8526</td>\n",
              "      <td>Iteration 2</td>\n",
              "    </tr>\n",
              "    <tr>\n",
              "      <th>2</th>\n",
              "      <td>0.8468</td>\n",
              "      <td>0.845397</td>\n",
              "      <td>0.8468</td>\n",
              "      <td>Iteration 3</td>\n",
              "    </tr>\n",
              "    <tr>\n",
              "      <th>3</th>\n",
              "      <td>0.854</td>\n",
              "      <td>0.855318</td>\n",
              "      <td>0.854</td>\n",
              "      <td>Iteration 4</td>\n",
              "    </tr>\n",
              "    <tr>\n",
              "      <th>4</th>\n",
              "      <td>0.8601</td>\n",
              "      <td>0.859256</td>\n",
              "      <td>0.8601</td>\n",
              "      <td>Iteration 5</td>\n",
              "    </tr>\n",
              "    <tr>\n",
              "      <th>5</th>\n",
              "      <td>0.8418</td>\n",
              "      <td>0.849322</td>\n",
              "      <td>0.8418</td>\n",
              "      <td>Iteration 6</td>\n",
              "    </tr>\n",
              "    <tr>\n",
              "      <th>6</th>\n",
              "      <td>0.867</td>\n",
              "      <td>0.866965</td>\n",
              "      <td>0.867</td>\n",
              "      <td>Iteration 7</td>\n",
              "    </tr>\n",
              "    <tr>\n",
              "      <th>7</th>\n",
              "      <td>0.8712</td>\n",
              "      <td>0.8712</td>\n",
              "      <td>0.8712</td>\n",
              "      <td>Model</td>\n",
              "    </tr>\n",
              "  </tbody>\n",
              "</table>\n",
              "</div>"
            ],
            "text/plain": [
              "  Accuracy Precision  Recall       Models\n",
              "0   0.8666  0.867061  0.8666  Iteration 1\n",
              "1   0.8526  0.855435  0.8526  Iteration 2\n",
              "2   0.8468  0.845397  0.8468  Iteration 3\n",
              "3    0.854  0.855318   0.854  Iteration 4\n",
              "4   0.8601  0.859256  0.8601  Iteration 5\n",
              "5   0.8418  0.849322  0.8418  Iteration 6\n",
              "6    0.867  0.866965   0.867  Iteration 7\n",
              "7   0.8712    0.8712  0.8712        Model"
            ]
          },
          "metadata": {
            "tags": []
          },
          "execution_count": 183
        }
      ]
    },
    {
      "metadata": {
        "id": "QWF2WkRgGrKq",
        "colab_type": "code",
        "colab": {}
      },
      "cell_type": "code",
      "source": [
        "# form dataframe using prediction of each iteration\n",
        "df_iteration = pd.DataFrame([predictions[:,0],\\\n",
        "                            predictions[:,1],\\\n",
        "                            predictions[:,2],\\\n",
        "                            predictions[:,3],\\\n",
        "                            predictions[:,4],\\\n",
        "                            predictions[:,5],\\\n",
        "                            predictions[:,6]])"
      ],
      "execution_count": 0,
      "outputs": []
    },
    {
      "metadata": {
        "id": "bDmf4f3gIW-P",
        "colab_type": "code",
        "colab": {
          "base_uri": "https://localhost:8080/",
          "height": 286
        },
        "outputId": "bc45d04b-6559-40bf-cec5-823884315668"
      },
      "cell_type": "code",
      "source": [
        "df_iteration"
      ],
      "execution_count": 100,
      "outputs": [
        {
          "output_type": "execute_result",
          "data": {
            "text/html": [
              "<div>\n",
              "<style scoped>\n",
              "    .dataframe tbody tr th:only-of-type {\n",
              "        vertical-align: middle;\n",
              "    }\n",
              "\n",
              "    .dataframe tbody tr th {\n",
              "        vertical-align: top;\n",
              "    }\n",
              "\n",
              "    .dataframe thead th {\n",
              "        text-align: right;\n",
              "    }\n",
              "</style>\n",
              "<table border=\"1\" class=\"dataframe\">\n",
              "  <thead>\n",
              "    <tr style=\"text-align: right;\">\n",
              "      <th></th>\n",
              "      <th>0</th>\n",
              "      <th>1</th>\n",
              "      <th>2</th>\n",
              "      <th>3</th>\n",
              "      <th>4</th>\n",
              "      <th>5</th>\n",
              "      <th>6</th>\n",
              "      <th>7</th>\n",
              "      <th>8</th>\n",
              "      <th>9</th>\n",
              "      <th>...</th>\n",
              "      <th>9990</th>\n",
              "      <th>9991</th>\n",
              "      <th>9992</th>\n",
              "      <th>9993</th>\n",
              "      <th>9994</th>\n",
              "      <th>9995</th>\n",
              "      <th>9996</th>\n",
              "      <th>9997</th>\n",
              "      <th>9998</th>\n",
              "      <th>9999</th>\n",
              "    </tr>\n",
              "  </thead>\n",
              "  <tbody>\n",
              "    <tr>\n",
              "      <th>0</th>\n",
              "      <td>9.0</td>\n",
              "      <td>2.0</td>\n",
              "      <td>1.0</td>\n",
              "      <td>1.0</td>\n",
              "      <td>6.0</td>\n",
              "      <td>1.0</td>\n",
              "      <td>4.0</td>\n",
              "      <td>6.0</td>\n",
              "      <td>5.0</td>\n",
              "      <td>7.0</td>\n",
              "      <td>...</td>\n",
              "      <td>5.0</td>\n",
              "      <td>6.0</td>\n",
              "      <td>8.0</td>\n",
              "      <td>9.0</td>\n",
              "      <td>1.0</td>\n",
              "      <td>9.0</td>\n",
              "      <td>1.0</td>\n",
              "      <td>8.0</td>\n",
              "      <td>1.0</td>\n",
              "      <td>5.0</td>\n",
              "    </tr>\n",
              "    <tr>\n",
              "      <th>1</th>\n",
              "      <td>9.0</td>\n",
              "      <td>2.0</td>\n",
              "      <td>1.0</td>\n",
              "      <td>1.0</td>\n",
              "      <td>6.0</td>\n",
              "      <td>1.0</td>\n",
              "      <td>4.0</td>\n",
              "      <td>6.0</td>\n",
              "      <td>5.0</td>\n",
              "      <td>7.0</td>\n",
              "      <td>...</td>\n",
              "      <td>5.0</td>\n",
              "      <td>3.0</td>\n",
              "      <td>8.0</td>\n",
              "      <td>9.0</td>\n",
              "      <td>1.0</td>\n",
              "      <td>9.0</td>\n",
              "      <td>1.0</td>\n",
              "      <td>8.0</td>\n",
              "      <td>1.0</td>\n",
              "      <td>5.0</td>\n",
              "    </tr>\n",
              "    <tr>\n",
              "      <th>2</th>\n",
              "      <td>9.0</td>\n",
              "      <td>2.0</td>\n",
              "      <td>1.0</td>\n",
              "      <td>1.0</td>\n",
              "      <td>6.0</td>\n",
              "      <td>1.0</td>\n",
              "      <td>4.0</td>\n",
              "      <td>6.0</td>\n",
              "      <td>5.0</td>\n",
              "      <td>7.0</td>\n",
              "      <td>...</td>\n",
              "      <td>5.0</td>\n",
              "      <td>6.0</td>\n",
              "      <td>8.0</td>\n",
              "      <td>9.0</td>\n",
              "      <td>1.0</td>\n",
              "      <td>9.0</td>\n",
              "      <td>1.0</td>\n",
              "      <td>8.0</td>\n",
              "      <td>1.0</td>\n",
              "      <td>5.0</td>\n",
              "    </tr>\n",
              "    <tr>\n",
              "      <th>3</th>\n",
              "      <td>9.0</td>\n",
              "      <td>2.0</td>\n",
              "      <td>1.0</td>\n",
              "      <td>1.0</td>\n",
              "      <td>6.0</td>\n",
              "      <td>1.0</td>\n",
              "      <td>4.0</td>\n",
              "      <td>6.0</td>\n",
              "      <td>5.0</td>\n",
              "      <td>7.0</td>\n",
              "      <td>...</td>\n",
              "      <td>5.0</td>\n",
              "      <td>6.0</td>\n",
              "      <td>8.0</td>\n",
              "      <td>9.0</td>\n",
              "      <td>1.0</td>\n",
              "      <td>9.0</td>\n",
              "      <td>1.0</td>\n",
              "      <td>8.0</td>\n",
              "      <td>1.0</td>\n",
              "      <td>5.0</td>\n",
              "    </tr>\n",
              "    <tr>\n",
              "      <th>4</th>\n",
              "      <td>9.0</td>\n",
              "      <td>2.0</td>\n",
              "      <td>1.0</td>\n",
              "      <td>1.0</td>\n",
              "      <td>6.0</td>\n",
              "      <td>1.0</td>\n",
              "      <td>4.0</td>\n",
              "      <td>6.0</td>\n",
              "      <td>5.0</td>\n",
              "      <td>7.0</td>\n",
              "      <td>...</td>\n",
              "      <td>5.0</td>\n",
              "      <td>6.0</td>\n",
              "      <td>8.0</td>\n",
              "      <td>9.0</td>\n",
              "      <td>1.0</td>\n",
              "      <td>9.0</td>\n",
              "      <td>1.0</td>\n",
              "      <td>8.0</td>\n",
              "      <td>1.0</td>\n",
              "      <td>5.0</td>\n",
              "    </tr>\n",
              "    <tr>\n",
              "      <th>5</th>\n",
              "      <td>9.0</td>\n",
              "      <td>2.0</td>\n",
              "      <td>1.0</td>\n",
              "      <td>1.0</td>\n",
              "      <td>6.0</td>\n",
              "      <td>1.0</td>\n",
              "      <td>4.0</td>\n",
              "      <td>6.0</td>\n",
              "      <td>5.0</td>\n",
              "      <td>7.0</td>\n",
              "      <td>...</td>\n",
              "      <td>5.0</td>\n",
              "      <td>6.0</td>\n",
              "      <td>8.0</td>\n",
              "      <td>9.0</td>\n",
              "      <td>1.0</td>\n",
              "      <td>9.0</td>\n",
              "      <td>1.0</td>\n",
              "      <td>8.0</td>\n",
              "      <td>1.0</td>\n",
              "      <td>5.0</td>\n",
              "    </tr>\n",
              "    <tr>\n",
              "      <th>6</th>\n",
              "      <td>9.0</td>\n",
              "      <td>2.0</td>\n",
              "      <td>1.0</td>\n",
              "      <td>1.0</td>\n",
              "      <td>6.0</td>\n",
              "      <td>1.0</td>\n",
              "      <td>4.0</td>\n",
              "      <td>6.0</td>\n",
              "      <td>5.0</td>\n",
              "      <td>7.0</td>\n",
              "      <td>...</td>\n",
              "      <td>5.0</td>\n",
              "      <td>6.0</td>\n",
              "      <td>8.0</td>\n",
              "      <td>9.0</td>\n",
              "      <td>1.0</td>\n",
              "      <td>9.0</td>\n",
              "      <td>1.0</td>\n",
              "      <td>8.0</td>\n",
              "      <td>1.0</td>\n",
              "      <td>5.0</td>\n",
              "    </tr>\n",
              "  </tbody>\n",
              "</table>\n",
              "<p>7 rows × 10000 columns</p>\n",
              "</div>"
            ],
            "text/plain": [
              "   0     1     2     3     4     5     6     7     8     9     ...   9990  \\\n",
              "0   9.0   2.0   1.0   1.0   6.0   1.0   4.0   6.0   5.0   7.0  ...    5.0   \n",
              "1   9.0   2.0   1.0   1.0   6.0   1.0   4.0   6.0   5.0   7.0  ...    5.0   \n",
              "2   9.0   2.0   1.0   1.0   6.0   1.0   4.0   6.0   5.0   7.0  ...    5.0   \n",
              "3   9.0   2.0   1.0   1.0   6.0   1.0   4.0   6.0   5.0   7.0  ...    5.0   \n",
              "4   9.0   2.0   1.0   1.0   6.0   1.0   4.0   6.0   5.0   7.0  ...    5.0   \n",
              "5   9.0   2.0   1.0   1.0   6.0   1.0   4.0   6.0   5.0   7.0  ...    5.0   \n",
              "6   9.0   2.0   1.0   1.0   6.0   1.0   4.0   6.0   5.0   7.0  ...    5.0   \n",
              "\n",
              "   9991  9992  9993  9994  9995  9996  9997  9998  9999  \n",
              "0   6.0   8.0   9.0   1.0   9.0   1.0   8.0   1.0   5.0  \n",
              "1   3.0   8.0   9.0   1.0   9.0   1.0   8.0   1.0   5.0  \n",
              "2   6.0   8.0   9.0   1.0   9.0   1.0   8.0   1.0   5.0  \n",
              "3   6.0   8.0   9.0   1.0   9.0   1.0   8.0   1.0   5.0  \n",
              "4   6.0   8.0   9.0   1.0   9.0   1.0   8.0   1.0   5.0  \n",
              "5   6.0   8.0   9.0   1.0   9.0   1.0   8.0   1.0   5.0  \n",
              "6   6.0   8.0   9.0   1.0   9.0   1.0   8.0   1.0   5.0  \n",
              "\n",
              "[7 rows x 10000 columns]"
            ]
          },
          "metadata": {
            "tags": []
          },
          "execution_count": 100
        }
      ]
    },
    {
      "metadata": {
        "id": "T_aBbh5kGu6D",
        "colab_type": "code",
        "colab": {}
      },
      "cell_type": "code",
      "source": [
        "# find the mode for result\n",
        "mode = stats.mode(df_iteration)"
      ],
      "execution_count": 0,
      "outputs": []
    },
    {
      "metadata": {
        "id": "nCcFTLloIj06",
        "colab_type": "code",
        "colab": {
          "base_uri": "https://localhost:8080/",
          "height": 34
        },
        "outputId": "b1f88596-07c7-46db-b85a-a3c66a55e1fa"
      },
      "cell_type": "code",
      "source": [
        "mode"
      ],
      "execution_count": 102,
      "outputs": [
        {
          "output_type": "execute_result",
          "data": {
            "text/plain": [
              "ModeResult(mode=array([[9., 2., 1., ..., 8., 1., 5.]]), count=array([[7, 7, 7, ..., 7, 7, 7]]))"
            ]
          },
          "metadata": {
            "tags": []
          },
          "execution_count": 102
        }
      ]
    },
    {
      "metadata": {
        "id": "GOK7cfDGHDjD",
        "colab_type": "code",
        "colab": {
          "base_uri": "https://localhost:8080/",
          "height": 34
        },
        "outputId": "90d54723-8b14-4b23-83b6-467c37512a3b"
      },
      "cell_type": "code",
      "source": [
        "# calculate the accuracy for test dataset for the mode\n",
        "print(accuracy_score( y_test, mode[0].T))"
      ],
      "execution_count": 103,
      "outputs": [
        {
          "output_type": "stream",
          "text": [
            "0.8712\n"
          ],
          "name": "stdout"
        }
      ]
    },
    {
      "metadata": {
        "id": "5VqkuJJbHN9j",
        "colab_type": "text"
      },
      "cell_type": "markdown",
      "source": [
        "### Confusin Matrix"
      ]
    },
    {
      "metadata": {
        "id": "1Q-GxXXfHQEv",
        "colab_type": "code",
        "colab": {
          "base_uri": "https://localhost:8080/",
          "height": 620
        },
        "outputId": "26a70941-2ab3-4aa8-a688-eab880c9e407"
      },
      "cell_type": "code",
      "source": [
        "plt.figure(figsize=(10,10))\n",
        "\n",
        "# confusion matrix\n",
        "cm = confusion_matrix(y_test, mode[0].T, labels=[0, 1, 2, 3, 4, 5, 6, 7, 8])\n",
        "ax= plt.subplot()\n",
        "sns.heatmap(cm, annot=True, ax = ax,fmt='g',cmap='Blues'); \n",
        "\n",
        "# labels, title and ticks\n",
        "ax.set_xlabel('Predicted labels');ax.set_ylabel('Actual labels'); \n",
        "ax.set_title('Confusion Matrix'); "
      ],
      "execution_count": 181,
      "outputs": [
        {
          "output_type": "display_data",
          "data": {
            "image/png": "[encoded data removed]",
            "text/plain": [
              "<Figure size 720x720 with 2 Axes>"
            ]
          },
          "metadata": {
            "tags": []
          }
        }
      ]
    },
    {
      "metadata": {
        "id": "ZbzXzd_HMYXw",
        "colab_type": "code",
        "colab": {}
      },
      "cell_type": "code",
      "source": [
        "#acuracy_bkup = accuracy\n",
        "accuracy = acuracy_bkup"
      ],
      "execution_count": 0,
      "outputs": []
    },
    {
      "metadata": {
        "id": "PaSI47MbHUd0",
        "colab_type": "code",
        "colab": {}
      },
      "cell_type": "code",
      "source": [
        "accuracy[\"Models\"]=[\"Iteration 1\",\\\n",
        "                   \"Iteration 2\",\\\n",
        "                   \"Iteration 3\",\\\n",
        "                   \"Iteration 4\",\\\n",
        "                   \"Iteration 5\",\\\n",
        "                   \"Iteration 6\",\\\n",
        "                   \"Iteration 7\"]"
      ],
      "execution_count": 0,
      "outputs": []
    },
    {
      "metadata": {
        "id": "6rZvx3WTIqYZ",
        "colab_type": "code",
        "colab": {
          "base_uri": "https://localhost:8080/",
          "height": 257
        },
        "outputId": "6180380e-95d4-4c04-ad54-1e7bc2d98dd6"
      },
      "cell_type": "code",
      "source": [
        "accuracy"
      ],
      "execution_count": 172,
      "outputs": [
        {
          "output_type": "execute_result",
          "data": {
            "text/html": [
              "<div>\n",
              "<style scoped>\n",
              "    .dataframe tbody tr th:only-of-type {\n",
              "        vertical-align: middle;\n",
              "    }\n",
              "\n",
              "    .dataframe tbody tr th {\n",
              "        vertical-align: top;\n",
              "    }\n",
              "\n",
              "    .dataframe thead th {\n",
              "        text-align: right;\n",
              "    }\n",
              "</style>\n",
              "<table border=\"1\" class=\"dataframe\">\n",
              "  <thead>\n",
              "    <tr style=\"text-align: right;\">\n",
              "      <th></th>\n",
              "      <th>Accuracy</th>\n",
              "      <th>Precision</th>\n",
              "      <th>Recall</th>\n",
              "      <th>Models</th>\n",
              "    </tr>\n",
              "  </thead>\n",
              "  <tbody>\n",
              "    <tr>\n",
              "      <th>0</th>\n",
              "      <td>0.8666</td>\n",
              "      <td>0.867061</td>\n",
              "      <td>0.8666</td>\n",
              "      <td>Iteration 1</td>\n",
              "    </tr>\n",
              "    <tr>\n",
              "      <th>1</th>\n",
              "      <td>0.8526</td>\n",
              "      <td>0.855435</td>\n",
              "      <td>0.8526</td>\n",
              "      <td>Iteration 2</td>\n",
              "    </tr>\n",
              "    <tr>\n",
              "      <th>2</th>\n",
              "      <td>0.8468</td>\n",
              "      <td>0.845397</td>\n",
              "      <td>0.8468</td>\n",
              "      <td>Iteration 3</td>\n",
              "    </tr>\n",
              "    <tr>\n",
              "      <th>3</th>\n",
              "      <td>0.854</td>\n",
              "      <td>0.855318</td>\n",
              "      <td>0.854</td>\n",
              "      <td>Iteration 4</td>\n",
              "    </tr>\n",
              "    <tr>\n",
              "      <th>4</th>\n",
              "      <td>0.8601</td>\n",
              "      <td>0.859256</td>\n",
              "      <td>0.8601</td>\n",
              "      <td>Iteration 5</td>\n",
              "    </tr>\n",
              "    <tr>\n",
              "      <th>5</th>\n",
              "      <td>0.8418</td>\n",
              "      <td>0.849322</td>\n",
              "      <td>0.8418</td>\n",
              "      <td>Iteration 6</td>\n",
              "    </tr>\n",
              "    <tr>\n",
              "      <th>6</th>\n",
              "      <td>0.867</td>\n",
              "      <td>0.866965</td>\n",
              "      <td>0.867</td>\n",
              "      <td>Iteration 7</td>\n",
              "    </tr>\n",
              "  </tbody>\n",
              "</table>\n",
              "</div>"
            ],
            "text/plain": [
              "  Accuracy Precision  Recall       Models\n",
              "0   0.8666  0.867061  0.8666  Iteration 1\n",
              "1   0.8526  0.855435  0.8526  Iteration 2\n",
              "2   0.8468  0.845397  0.8468  Iteration 3\n",
              "3    0.854  0.855318   0.854  Iteration 4\n",
              "4   0.8601  0.859256  0.8601  Iteration 5\n",
              "5   0.8418  0.849322  0.8418  Iteration 6\n",
              "6    0.867  0.866965   0.867  Iteration 7"
            ]
          },
          "metadata": {
            "tags": []
          },
          "execution_count": 172
        }
      ]
    },
    {
      "metadata": {
        "id": "jGbRwSBxPy8x",
        "colab_type": "code",
        "colab": {
          "base_uri": "https://localhost:8080/",
          "height": 77
        },
        "outputId": "c114c0af-05e5-446b-eb5a-bb8038603a4d"
      },
      "cell_type": "code",
      "source": [
        "pd.DataFrame([[accuracy_score( y_test,mode[0].T),0,0,\"Model\"]],columns=[\"Accuracy\",\"Precision\",\"Recall\",\"Models\"])\n"
      ],
      "execution_count": 161,
      "outputs": [
        {
          "output_type": "execute_result",
          "data": {
            "text/html": [
              "<div>\n",
              "<style scoped>\n",
              "    .dataframe tbody tr th:only-of-type {\n",
              "        vertical-align: middle;\n",
              "    }\n",
              "\n",
              "    .dataframe tbody tr th {\n",
              "        vertical-align: top;\n",
              "    }\n",
              "\n",
              "    .dataframe thead th {\n",
              "        text-align: right;\n",
              "    }\n",
              "</style>\n",
              "<table border=\"1\" class=\"dataframe\">\n",
              "  <thead>\n",
              "    <tr style=\"text-align: right;\">\n",
              "      <th></th>\n",
              "      <th>Accuracy</th>\n",
              "      <th>Precision</th>\n",
              "      <th>Recall</th>\n",
              "      <th>Models</th>\n",
              "    </tr>\n",
              "  </thead>\n",
              "  <tbody>\n",
              "    <tr>\n",
              "      <th>0</th>\n",
              "      <td>0.8712</td>\n",
              "      <td>0</td>\n",
              "      <td>0</td>\n",
              "      <td>Model</td>\n",
              "    </tr>\n",
              "  </tbody>\n",
              "</table>\n",
              "</div>"
            ],
            "text/plain": [
              "   Accuracy  Precision  Recall Models\n",
              "0    0.8712          0       0  Model"
            ]
          },
          "metadata": {
            "tags": []
          },
          "execution_count": 161
        }
      ]
    },
    {
      "metadata": {
        "id": "r7neCGxwP5qv",
        "colab_type": "code",
        "colab": {}
      },
      "cell_type": "code",
      "source": [
        "accuracy=accuracy.append(pd.DataFrame([[accuracy_score( y_test,mode[0].T),0,0,\"Model\"]],\\\n",
        "                                      columns=[\"Accuracy\",\"Precision\",\"Recall\",\"Models\"]))\n"
      ],
      "execution_count": 0,
      "outputs": []
    },
    {
      "metadata": {
        "id": "47KbjK4nP7eZ",
        "colab_type": "code",
        "colab": {
          "base_uri": "https://localhost:8080/",
          "height": 287
        },
        "outputId": "702a49de-b85b-4fbc-bf8a-29fc4c233a69"
      },
      "cell_type": "code",
      "source": [
        "accuracy"
      ],
      "execution_count": 163,
      "outputs": [
        {
          "output_type": "execute_result",
          "data": {
            "text/html": [
              "<div>\n",
              "<style scoped>\n",
              "    .dataframe tbody tr th:only-of-type {\n",
              "        vertical-align: middle;\n",
              "    }\n",
              "\n",
              "    .dataframe tbody tr th {\n",
              "        vertical-align: top;\n",
              "    }\n",
              "\n",
              "    .dataframe thead th {\n",
              "        text-align: right;\n",
              "    }\n",
              "</style>\n",
              "<table border=\"1\" class=\"dataframe\">\n",
              "  <thead>\n",
              "    <tr style=\"text-align: right;\">\n",
              "      <th></th>\n",
              "      <th>Accuracy</th>\n",
              "      <th>Precision</th>\n",
              "      <th>Recall</th>\n",
              "      <th>Models</th>\n",
              "    </tr>\n",
              "  </thead>\n",
              "  <tbody>\n",
              "    <tr>\n",
              "      <th>0</th>\n",
              "      <td>0.8666</td>\n",
              "      <td>0.867061</td>\n",
              "      <td>0.8666</td>\n",
              "      <td>Iteration 1</td>\n",
              "    </tr>\n",
              "    <tr>\n",
              "      <th>1</th>\n",
              "      <td>0.8526</td>\n",
              "      <td>0.855435</td>\n",
              "      <td>0.8526</td>\n",
              "      <td>Iteration 2</td>\n",
              "    </tr>\n",
              "    <tr>\n",
              "      <th>2</th>\n",
              "      <td>0.8468</td>\n",
              "      <td>0.845397</td>\n",
              "      <td>0.8468</td>\n",
              "      <td>Iteration 3</td>\n",
              "    </tr>\n",
              "    <tr>\n",
              "      <th>3</th>\n",
              "      <td>0.854</td>\n",
              "      <td>0.855318</td>\n",
              "      <td>0.854</td>\n",
              "      <td>Iteration 4</td>\n",
              "    </tr>\n",
              "    <tr>\n",
              "      <th>4</th>\n",
              "      <td>0.8601</td>\n",
              "      <td>0.859256</td>\n",
              "      <td>0.8601</td>\n",
              "      <td>Iteration 5</td>\n",
              "    </tr>\n",
              "    <tr>\n",
              "      <th>5</th>\n",
              "      <td>0.8418</td>\n",
              "      <td>0.849322</td>\n",
              "      <td>0.8418</td>\n",
              "      <td>Iteration 6</td>\n",
              "    </tr>\n",
              "    <tr>\n",
              "      <th>6</th>\n",
              "      <td>0.867</td>\n",
              "      <td>0.866965</td>\n",
              "      <td>0.867</td>\n",
              "      <td>Iteration 7</td>\n",
              "    </tr>\n",
              "    <tr>\n",
              "      <th>0</th>\n",
              "      <td>0.8712</td>\n",
              "      <td>0</td>\n",
              "      <td>0</td>\n",
              "      <td>Model</td>\n",
              "    </tr>\n",
              "  </tbody>\n",
              "</table>\n",
              "</div>"
            ],
            "text/plain": [
              "  Accuracy Precision  Recall       Models\n",
              "0   0.8666  0.867061  0.8666  Iteration 1\n",
              "1   0.8526  0.855435  0.8526  Iteration 2\n",
              "2   0.8468  0.845397  0.8468  Iteration 3\n",
              "3    0.854  0.855318   0.854  Iteration 4\n",
              "4   0.8601  0.859256  0.8601  Iteration 5\n",
              "5   0.8418  0.849322  0.8418  Iteration 6\n",
              "6    0.867  0.866965   0.867  Iteration 7\n",
              "0   0.8712         0       0        Model"
            ]
          },
          "metadata": {
            "tags": []
          },
          "execution_count": 163
        }
      ]
    },
    {
      "metadata": {
        "id": "rsux0vf5P-3l",
        "colab_type": "code",
        "colab": {}
      },
      "cell_type": "code",
      "source": [
        "accuracy.index=range(accuracy.shape[0])\n"
      ],
      "execution_count": 0,
      "outputs": []
    },
    {
      "metadata": {
        "id": "dqzXAAbtQA4j",
        "colab_type": "code",
        "colab": {
          "base_uri": "https://localhost:8080/",
          "height": 34
        },
        "outputId": "9c94a44f-9d0f-4667-c680-5c95e9ee62c9"
      },
      "cell_type": "code",
      "source": [
        "accuracy.index"
      ],
      "execution_count": 165,
      "outputs": [
        {
          "output_type": "execute_result",
          "data": {
            "text/plain": [
              "RangeIndex(start=0, stop=8, step=1)"
            ]
          },
          "metadata": {
            "tags": []
          },
          "execution_count": 165
        }
      ]
    },
    {
      "metadata": {
        "id": "e_6a9fY2QBf3",
        "colab_type": "code",
        "colab": {
          "base_uri": "https://localhost:8080/",
          "height": 378
        },
        "outputId": "4a663018-b38a-4348-dc0e-c2919452b2b9"
      },
      "cell_type": "code",
      "source": [
        "accuracy.set_value(7, 'Precision', precision_score(y_test, mode[0].T, average='micro'))\n",
        "accuracy.set_value(7, 'Recall', recall_score(y_test, mode[0].T, average='micro'))"
      ],
      "execution_count": 166,
      "outputs": [
        {
          "output_type": "stream",
          "text": [
            "/usr/local/lib/python3.6/dist-packages/ipykernel_launcher.py:1: FutureWarning: set_value is deprecated and will be removed in a future release. Please use .at[] or .iat[] accessors instead\n",
            "  \"\"\"Entry point for launching an IPython kernel.\n",
            "/usr/local/lib/python3.6/dist-packages/ipykernel_launcher.py:2: FutureWarning: set_value is deprecated and will be removed in a future release. Please use .at[] or .iat[] accessors instead\n",
            "  \n"
          ],
          "name": "stderr"
        },
        {
          "output_type": "execute_result",
          "data": {
            "text/html": [
              "<div>\n",
              "<style scoped>\n",
              "    .dataframe tbody tr th:only-of-type {\n",
              "        vertical-align: middle;\n",
              "    }\n",
              "\n",
              "    .dataframe tbody tr th {\n",
              "        vertical-align: top;\n",
              "    }\n",
              "\n",
              "    .dataframe thead th {\n",
              "        text-align: right;\n",
              "    }\n",
              "</style>\n",
              "<table border=\"1\" class=\"dataframe\">\n",
              "  <thead>\n",
              "    <tr style=\"text-align: right;\">\n",
              "      <th></th>\n",
              "      <th>Accuracy</th>\n",
              "      <th>Precision</th>\n",
              "      <th>Recall</th>\n",
              "      <th>Models</th>\n",
              "    </tr>\n",
              "  </thead>\n",
              "  <tbody>\n",
              "    <tr>\n",
              "      <th>0</th>\n",
              "      <td>0.8666</td>\n",
              "      <td>0.867061</td>\n",
              "      <td>0.8666</td>\n",
              "      <td>Iteration 1</td>\n",
              "    </tr>\n",
              "    <tr>\n",
              "      <th>1</th>\n",
              "      <td>0.8526</td>\n",
              "      <td>0.855435</td>\n",
              "      <td>0.8526</td>\n",
              "      <td>Iteration 2</td>\n",
              "    </tr>\n",
              "    <tr>\n",
              "      <th>2</th>\n",
              "      <td>0.8468</td>\n",
              "      <td>0.845397</td>\n",
              "      <td>0.8468</td>\n",
              "      <td>Iteration 3</td>\n",
              "    </tr>\n",
              "    <tr>\n",
              "      <th>3</th>\n",
              "      <td>0.854</td>\n",
              "      <td>0.855318</td>\n",
              "      <td>0.854</td>\n",
              "      <td>Iteration 4</td>\n",
              "    </tr>\n",
              "    <tr>\n",
              "      <th>4</th>\n",
              "      <td>0.8601</td>\n",
              "      <td>0.859256</td>\n",
              "      <td>0.8601</td>\n",
              "      <td>Iteration 5</td>\n",
              "    </tr>\n",
              "    <tr>\n",
              "      <th>5</th>\n",
              "      <td>0.8418</td>\n",
              "      <td>0.849322</td>\n",
              "      <td>0.8418</td>\n",
              "      <td>Iteration 6</td>\n",
              "    </tr>\n",
              "    <tr>\n",
              "      <th>6</th>\n",
              "      <td>0.867</td>\n",
              "      <td>0.866965</td>\n",
              "      <td>0.867</td>\n",
              "      <td>Iteration 7</td>\n",
              "    </tr>\n",
              "    <tr>\n",
              "      <th>7</th>\n",
              "      <td>0.8712</td>\n",
              "      <td>0.8712</td>\n",
              "      <td>0.8712</td>\n",
              "      <td>Model</td>\n",
              "    </tr>\n",
              "  </tbody>\n",
              "</table>\n",
              "</div>"
            ],
            "text/plain": [
              "  Accuracy Precision  Recall       Models\n",
              "0   0.8666  0.867061  0.8666  Iteration 1\n",
              "1   0.8526  0.855435  0.8526  Iteration 2\n",
              "2   0.8468  0.845397  0.8468  Iteration 3\n",
              "3    0.854  0.855318   0.854  Iteration 4\n",
              "4   0.8601  0.859256  0.8601  Iteration 5\n",
              "5   0.8418  0.849322  0.8418  Iteration 6\n",
              "6    0.867  0.866965   0.867  Iteration 7\n",
              "7   0.8712    0.8712  0.8712        Model"
            ]
          },
          "metadata": {
            "tags": []
          },
          "execution_count": 166
        }
      ]
    },
    {
      "metadata": {
        "id": "-51aS82pHnT6",
        "colab_type": "code",
        "colab": {
          "base_uri": "https://localhost:8080/",
          "height": 378
        },
        "outputId": "a82badb1-c3dc-40d9-b046-1b99a3d9d390"
      },
      "cell_type": "code",
      "source": [
        "pd.DataFrame([[accuracy_score( y_test,mode[0].T),0,0,\"Model\"]],columns=[\"Accuracy\",\"Precision\",\"Recall\",\"Models\"])\n",
        "\n",
        "accuracy=accuracy.append(pd.DataFrame([[accuracy_score( y_test,mode[0].T),0,0,\"Model\"]],\\\n",
        "                                      columns=[\"Accuracy\",\"Precision\",\"Recall\",\"Models\"]))\n",
        "\n",
        "accuracy.index=range(accuracy.shape[0])\n",
        "\n",
        "accuracy.set_value(7, 'Precision', precision_score(y_test, mode[0].T, average='micro'))\n",
        "accuracy.set_value(7, 'Recall', recall_score(y_test, mode[0].T, average='micro'))"
      ],
      "execution_count": 173,
      "outputs": [
        {
          "output_type": "stream",
          "text": [
            "/usr/local/lib/python3.6/dist-packages/ipykernel_launcher.py:7: FutureWarning: set_value is deprecated and will be removed in a future release. Please use .at[] or .iat[] accessors instead\n",
            "  import sys\n",
            "/usr/local/lib/python3.6/dist-packages/ipykernel_launcher.py:8: FutureWarning: set_value is deprecated and will be removed in a future release. Please use .at[] or .iat[] accessors instead\n",
            "  \n"
          ],
          "name": "stderr"
        },
        {
          "output_type": "execute_result",
          "data": {
            "text/html": [
              "<div>\n",
              "<style scoped>\n",
              "    .dataframe tbody tr th:only-of-type {\n",
              "        vertical-align: middle;\n",
              "    }\n",
              "\n",
              "    .dataframe tbody tr th {\n",
              "        vertical-align: top;\n",
              "    }\n",
              "\n",
              "    .dataframe thead th {\n",
              "        text-align: right;\n",
              "    }\n",
              "</style>\n",
              "<table border=\"1\" class=\"dataframe\">\n",
              "  <thead>\n",
              "    <tr style=\"text-align: right;\">\n",
              "      <th></th>\n",
              "      <th>Accuracy</th>\n",
              "      <th>Precision</th>\n",
              "      <th>Recall</th>\n",
              "      <th>Models</th>\n",
              "    </tr>\n",
              "  </thead>\n",
              "  <tbody>\n",
              "    <tr>\n",
              "      <th>0</th>\n",
              "      <td>0.8666</td>\n",
              "      <td>0.867061</td>\n",
              "      <td>0.8666</td>\n",
              "      <td>Iteration 1</td>\n",
              "    </tr>\n",
              "    <tr>\n",
              "      <th>1</th>\n",
              "      <td>0.8526</td>\n",
              "      <td>0.855435</td>\n",
              "      <td>0.8526</td>\n",
              "      <td>Iteration 2</td>\n",
              "    </tr>\n",
              "    <tr>\n",
              "      <th>2</th>\n",
              "      <td>0.8468</td>\n",
              "      <td>0.845397</td>\n",
              "      <td>0.8468</td>\n",
              "      <td>Iteration 3</td>\n",
              "    </tr>\n",
              "    <tr>\n",
              "      <th>3</th>\n",
              "      <td>0.854</td>\n",
              "      <td>0.855318</td>\n",
              "      <td>0.854</td>\n",
              "      <td>Iteration 4</td>\n",
              "    </tr>\n",
              "    <tr>\n",
              "      <th>4</th>\n",
              "      <td>0.8601</td>\n",
              "      <td>0.859256</td>\n",
              "      <td>0.8601</td>\n",
              "      <td>Iteration 5</td>\n",
              "    </tr>\n",
              "    <tr>\n",
              "      <th>5</th>\n",
              "      <td>0.8418</td>\n",
              "      <td>0.849322</td>\n",
              "      <td>0.8418</td>\n",
              "      <td>Iteration 6</td>\n",
              "    </tr>\n",
              "    <tr>\n",
              "      <th>6</th>\n",
              "      <td>0.867</td>\n",
              "      <td>0.866965</td>\n",
              "      <td>0.867</td>\n",
              "      <td>Iteration 7</td>\n",
              "    </tr>\n",
              "    <tr>\n",
              "      <th>7</th>\n",
              "      <td>0.8712</td>\n",
              "      <td>0.8712</td>\n",
              "      <td>0.8712</td>\n",
              "      <td>Model</td>\n",
              "    </tr>\n",
              "  </tbody>\n",
              "</table>\n",
              "</div>"
            ],
            "text/plain": [
              "  Accuracy Precision  Recall       Models\n",
              "0   0.8666  0.867061  0.8666  Iteration 1\n",
              "1   0.8526  0.855435  0.8526  Iteration 2\n",
              "2   0.8468  0.845397  0.8468  Iteration 3\n",
              "3    0.854  0.855318   0.854  Iteration 4\n",
              "4   0.8601  0.859256  0.8601  Iteration 5\n",
              "5   0.8418  0.849322  0.8418  Iteration 6\n",
              "6    0.867  0.866965   0.867  Iteration 7\n",
              "7   0.8712    0.8712  0.8712        Model"
            ]
          },
          "metadata": {
            "tags": []
          },
          "execution_count": 173
        }
      ]
    },
    {
      "metadata": {
        "id": "WKkiLL4JH9vx",
        "colab_type": "code",
        "colab": {
          "base_uri": "https://localhost:8080/",
          "height": 497
        },
        "outputId": "afd81324-9ebb-4dba-e932-67f2ed144066"
      },
      "cell_type": "code",
      "source": [
        "plt.figure(figsize=(20,8))\n",
        "plt.plot(accuracy.Models,accuracy.Accuracy)\n",
        "plt.title(\"Accuracy across all Iterations and Ensemble\")\n",
        "plt.ylabel(\"Accuracy\")\n",
        "plt.show()"
      ],
      "execution_count": 176,
      "outputs": [
        {
          "output_type": "display_data",
          "data": {
            "image/png": "[encoded data removed]",
            "text/plain": [
              "<Figure size 1440x576 with 1 Axes>"
            ]
          },
          "metadata": {
            "tags": []
          }
        }
      ]
    },
    {
      "metadata": {
        "id": "jaDXk1KVIDh8",
        "colab_type": "code",
        "colab": {
          "base_uri": "https://localhost:8080/",
          "height": 497
        },
        "outputId": "fc5dd34b-4053-496c-a067-7589859223ff"
      },
      "cell_type": "code",
      "source": [
        "plt.figure(figsize=(20,8))\n",
        "plt.plot(accuracy.Models,accuracy.Accuracy,accuracy.Models,accuracy.Precision)\n",
        "plt.title(\"Metrics across all Iterations and models\")\n",
        "plt.legend([\"Accuracy\",\"Precision\"])\n",
        "plt.show()"
      ],
      "execution_count": 179,
      "outputs": [
        {
          "output_type": "display_data",
          "data": {
            "image/png": "[encoded data removed]",
            "text/plain": [
              "<Figure size 1440x576 with 1 Axes>"
            ]
          },
          "metadata": {
            "tags": []
          }
        }
      ]
    }
  ]
}